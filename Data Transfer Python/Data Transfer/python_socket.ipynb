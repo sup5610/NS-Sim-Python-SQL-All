{
 "cells": [
  {
   "cell_type": "code",
   "execution_count": 1,
   "metadata": {},
   "outputs": [],
   "source": [
    "import socket\n",
    "import time"
   ]
  },
  {
   "cell_type": "code",
   "execution_count": 2,
   "metadata": {},
   "outputs": [
    {
     "ename": "ConnectionRefusedError",
     "evalue": "[WinError 10061] No connection could be made because the target machine actively refused it",
     "output_type": "error",
     "traceback": [
      "\u001b[1;31m---------------------------------------------------------------------------\u001b[0m",
      "\u001b[1;31mConnectionRefusedError\u001b[0m                    Traceback (most recent call last)",
      "\u001b[1;32mc:\\Users\\supsu\\OneDrive\\School Python\\Project\\Simulation Building\\Data Transfer\\python_socket.ipynb Cell 2\u001b[0m in \u001b[0;36m<cell line: 3>\u001b[1;34m()\u001b[0m\n\u001b[0;32m      <a href='vscode-notebook-cell:/c%3A/Users/supsu/OneDrive/School%20Python/Project/Simulation%20Building/Data%20Transfer/python_socket.ipynb#W1sZmlsZQ%3D%3D?line=0'>1</a>\u001b[0m host, port \u001b[39m=\u001b[39m \u001b[39m\"\u001b[39m\u001b[39m127.0.0.1\u001b[39m\u001b[39m\"\u001b[39m, \u001b[39m64738\u001b[39m \u001b[39m#################################################\u001b[39;00m\n\u001b[0;32m      <a href='vscode-notebook-cell:/c%3A/Users/supsu/OneDrive/School%20Python/Project/Simulation%20Building/Data%20Transfer/python_socket.ipynb#W1sZmlsZQ%3D%3D?line=1'>2</a>\u001b[0m sock \u001b[39m=\u001b[39m socket\u001b[39m.\u001b[39msocket(socket\u001b[39m.\u001b[39mAF_INET, socket\u001b[39m.\u001b[39mSOCK_STREAM) \u001b[39m#################################################\u001b[39;00m\n\u001b[1;32m----> <a href='vscode-notebook-cell:/c%3A/Users/supsu/OneDrive/School%20Python/Project/Simulation%20Building/Data%20Transfer/python_socket.ipynb#W1sZmlsZQ%3D%3D?line=2'>3</a>\u001b[0m sock\u001b[39m.\u001b[39;49mconnect((host, port)) \u001b[39m#################################################\u001b[39;00m\n\u001b[0;32m      <a href='vscode-notebook-cell:/c%3A/Users/supsu/OneDrive/School%20Python/Project/Simulation%20Building/Data%20Transfer/python_socket.ipynb#W1sZmlsZQ%3D%3D?line=4'>5</a>\u001b[0m data \u001b[39m=\u001b[39m \u001b[39m0\u001b[39m\n\u001b[0;32m      <a href='vscode-notebook-cell:/c%3A/Users/supsu/OneDrive/School%20Python/Project/Simulation%20Building/Data%20Transfer/python_socket.ipynb#W1sZmlsZQ%3D%3D?line=6'>7</a>\u001b[0m \u001b[39mwhile\u001b[39;00m \u001b[39mTrue\u001b[39;00m:\n",
      "\u001b[1;31mConnectionRefusedError\u001b[0m: [WinError 10061] No connection could be made because the target machine actively refused it"
     ]
    }
   ],
   "source": [
    "host, port = \"127.0.0.1\", 64738 #################################################\n",
    "sock = socket.socket(socket.AF_INET, socket.SOCK_STREAM) #################################################\n",
    "sock.connect((host, port)) #################################################\n",
    "\n",
    "data = 0\n",
    "\n",
    "while True:\n",
    "    time.sleep(1)\n",
    "    \n",
    "    data = str(data)\n",
    "    sock.sendall(data.encode(\"UTF-8\")) #################################################\n",
    "    data = int(data)\n",
    "    data += 1\n",
    "    \n",
    "    recievedData = sock.recv(1024).decode(\"UTF-8\") #################################################\n",
    "    print(recievedData)\n"
   ]
  },
  {
   "cell_type": "code",
   "execution_count": null,
   "metadata": {},
   "outputs": [],
   "source": [
    "host, port = \"127.0.0.1\", 64738\n",
    "sock = socket.socket(socket.AF_INET, socket.SOCK_STREAM)\n",
    "socket.connect((host, port))"
   ]
  }
 ],
 "metadata": {
  "kernelspec": {
   "display_name": "Python 3.9.7 ('4opencv')",
   "language": "python",
   "name": "python3"
  },
  "language_info": {
   "codemirror_mode": {
    "name": "ipython",
    "version": 3
   },
   "file_extension": ".py",
   "mimetype": "text/x-python",
   "name": "python",
   "nbconvert_exporter": "python",
   "pygments_lexer": "ipython3",
   "version": "3.7.12"
  },
  "orig_nbformat": 4,
  "vscode": {
   "interpreter": {
    "hash": "02f7b4005e114b4721dda66080288c9f0ba478e7a6e6596001d23b25d0361f1b"
   }
  }
 },
 "nbformat": 4,
 "nbformat_minor": 2
}
