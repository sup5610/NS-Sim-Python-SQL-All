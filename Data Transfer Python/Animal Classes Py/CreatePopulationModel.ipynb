{
 "cells": [
  {
   "cell_type": "code",
   "execution_count": 1,
   "metadata": {},
   "outputs": [],
   "source": [
    "import json\n",
    "import socket\n",
    "import time\n",
    "import random\n",
    "import uuid"
   ]
  },
  {
   "cell_type": "code",
   "execution_count": 2,
   "metadata": {},
   "outputs": [],
   "source": [
    "class Animal:\n",
    "    def __init__(self, attack, health, speed):\n",
    "        self.attack = attack\n",
    "        self.health = health\n",
    "        self.speed = speed\n",
    "\n",
    "\n",
    "class Predator(Animal):\n",
    "    def __init__(self, attack, health, speed):\n",
    "        super().__init__(attack, health, speed)\n",
    "\n",
    "class Wolf(Predator):\n",
    "    def __init__(self, attack, health, speed):\n",
    "        super().__init__(attack, health, speed)\n",
    "        self.guid = generateUUID()\n",
    "\n",
    "    \n",
    "class Jaguar(Predator):\n",
    "    def __init__(self, attack, health, speed):\n",
    "        super().__init__(attack, health, speed)\n",
    "        self.guid = generateUUID()\n",
    "        \n",
    "\n",
    "\n",
    "\n",
    "class Prey(Animal):\n",
    "    def __init__(self, attack, health, speed):\n",
    "        super().__init__(attack, health, speed)\n",
    "\n",
    "class Rabbit(Prey):\n",
    "    def __init__(self, attack, health, speed):\n",
    "        super().__init__(attack, health, speed)\n",
    "        self.guid = generateUUID()\n",
    "\n",
    "\n",
    "class Deer(Prey):\n",
    "    def __init__(self, attack, health, speed):\n",
    "        super().__init__(attack, health, speed)\n",
    "        self.guid = generateUUID()\n",
    "\n",
    "\n",
    "def generateUUID():\n",
    "    return str(uuid.uuid4())"
   ]
  },
  {
   "cell_type": "code",
   "execution_count": 21,
   "metadata": {},
   "outputs": [],
   "source": [
    "# Rabbit(random.randint(1, 10), random.randint(1, 10), random.randint(1, 10)) # generate instance of rabbit with random stats"
   ]
  },
  {
   "cell_type": "code",
   "execution_count": 3,
   "metadata": {},
   "outputs": [],
   "source": [
    "def init_population():\n",
    "\n",
    "    wolfList = [Wolf(random.randint(1, 10), random.randint(1, 10), random.randint(1, 10)).__dict__ for i in range(2)]\n",
    "    jaguarList = [Jaguar(random.randint(1, 10), random.randint(1, 10), random.randint(1, 10)).__dict__ for i in range(2)]\n",
    "    rabbitList = [Rabbit(random.randint(1, 10), random.randint(1, 10), random.randint(1, 10)).__dict__ for i in range(2)]\n",
    "    deerList = [Deer(random.randint(1, 10), random.randint(1, 10), random.randint(1, 10)).__dict__ for i in range(2)]\n",
    "    \n",
    "    listOfPred = [{\"wolves\": wolfList}, {\"jaguars\": jaguarList}]\n",
    "    listOfPrey = [{\"rabbits\": rabbitList}, {\"deer\": deerList}]\n",
    "    animalList = {\"preyList\": listOfPrey, \"predList\": listOfPred}\n",
    "    return animalList\n",
    "\n",
    "startPop = init_population()\n",
    "startPop = \"json\" + json.dumps(startPop)\n",
    "# startPop = json.dumps(startPop)"
   ]
  },
  {
   "cell_type": "code",
   "execution_count": 5,
   "metadata": {},
   "outputs": [
    {
     "data": {
      "text/plain": [
       "'json{\"preyList\": [{\"rabbits\": [{\"attack\": 6, \"health\": 1, \"speed\": 5, \"guid\": \"70ee3286-b367-4eb2-aa4d-fbd577a52646\"}, {\"attack\": 8, \"health\": 6, \"speed\": 2, \"guid\": \"73abb9c6-2867-4c4b-8ac8-2ac51ad8e1e3\"}]}, {\"deer\": [{\"attack\": 9, \"health\": 5, \"speed\": 10, \"guid\": \"bccb042d-a51e-4303-a39b-6152831438bf\"}, {\"attack\": 1, \"health\": 9, \"speed\": 7, \"guid\": \"dd177235-1608-46e0-be80-9d2cf58c9323\"}]}], \"predList\": [{\"wolves\": [{\"attack\": 1, \"health\": 7, \"speed\": 5, \"guid\": \"5f6f1664-6e82-44ba-a72e-bce0f34b1a9b\"}, {\"attack\": 3, \"health\": 2, \"speed\": 9, \"guid\": \"61f1ee52-18cc-46d1-9bc0-34bb8a61021f\"}]}, {\"jaguars\": [{\"attack\": 3, \"health\": 9, \"speed\": 9, \"guid\": \"1c42d0e4-a26a-4b68-8a65-86a7ddc10662\"}, {\"attack\": 5, \"health\": 3, \"speed\": 1, \"guid\": \"a88751f2-69fe-44f9-9f85-eab97d18efd2\"}]}]}'"
      ]
     },
     "execution_count": 5,
     "metadata": {},
     "output_type": "execute_result"
    }
   ],
   "source": [
    "startPop"
   ]
  },
  {
   "cell_type": "code",
   "execution_count": 4,
   "metadata": {},
   "outputs": [
    {
     "name": "stdout",
     "output_type": "stream",
     "text": [
      "received\n",
      "success\n"
     ]
    },
    {
     "ename": "KeyboardInterrupt",
     "evalue": "",
     "output_type": "error",
     "traceback": [
      "\u001b[1;31m---------------------------------------------------------------------------\u001b[0m",
      "\u001b[1;31mKeyboardInterrupt\u001b[0m                         Traceback (most recent call last)",
      "\u001b[1;32m~\\AppData\\Local\\Temp\\ipykernel_31096\\3874845354.py\u001b[0m in \u001b[0;36m<module>\u001b[1;34m\u001b[0m\n\u001b[0;32m     20\u001b[0m \u001b[1;33m\u001b[0m\u001b[0m\n\u001b[0;32m     21\u001b[0m \u001b[1;33m\u001b[0m\u001b[0m\n\u001b[1;32m---> 22\u001b[1;33m \u001b[0msend_data\u001b[0m\u001b[1;33m(\u001b[0m\u001b[1;33m)\u001b[0m\u001b[1;33m\u001b[0m\u001b[1;33m\u001b[0m\u001b[0m\n\u001b[0m",
      "\u001b[1;32m~\\AppData\\Local\\Temp\\ipykernel_31096\\3874845354.py\u001b[0m in \u001b[0;36msend_data\u001b[1;34m()\u001b[0m\n\u001b[0;32m     16\u001b[0m             \u001b[0mprint\u001b[0m\u001b[1;33m(\u001b[0m\u001b[1;34m\"success\"\u001b[0m\u001b[1;33m)\u001b[0m\u001b[1;33m\u001b[0m\u001b[1;33m\u001b[0m\u001b[0m\n\u001b[0;32m     17\u001b[0m             \u001b[1;31m# sent = True\u001b[0m\u001b[1;33m\u001b[0m\u001b[1;33m\u001b[0m\u001b[1;33m\u001b[0m\u001b[0m\n\u001b[1;32m---> 18\u001b[1;33m             \u001b[0mtime\u001b[0m\u001b[1;33m.\u001b[0m\u001b[0msleep\u001b[0m\u001b[1;33m(\u001b[0m\u001b[1;36m10\u001b[0m\u001b[1;33m)\u001b[0m\u001b[1;33m\u001b[0m\u001b[1;33m\u001b[0m\u001b[0m\n\u001b[0m\u001b[0;32m     19\u001b[0m             \u001b[1;31m# sock.close()\u001b[0m\u001b[1;33m\u001b[0m\u001b[1;33m\u001b[0m\u001b[1;33m\u001b[0m\u001b[0m\n\u001b[0;32m     20\u001b[0m \u001b[1;33m\u001b[0m\u001b[0m\n",
      "\u001b[1;31mKeyboardInterrupt\u001b[0m: "
     ]
    }
   ],
   "source": [
    "def send_data():\n",
    "    sent = False\n",
    "    host, port = \"127.0.0.1\", 64738 #################################################\n",
    "    sock = socket.socket(socket.AF_INET, socket.SOCK_STREAM) #################################################\n",
    "    sock.connect((host, port)) #################################################\n",
    "\n",
    "    data = startPop\n",
    "\n",
    "    while (sent != True):\n",
    "        time.sleep(1)\n",
    "        sock.sendall(data.encode(\"UTF-8\")) #################################################\n",
    "        \n",
    "        recievedData = sock.recv(1024).decode(\"UTF-8\") #################################################\n",
    "        print(recievedData)\n",
    "        if (recievedData == \"received\"):\n",
    "            print(\"success\")\n",
    "            # sent = True\n",
    "            time.sleep(10)\n",
    "            # sock.close()\n",
    "\n",
    "\n",
    "send_data()"
   ]
  },
  {
   "cell_type": "code",
   "execution_count": null,
   "metadata": {},
   "outputs": [
    {
     "name": "stdout",
     "output_type": "stream",
     "text": [
      "sending\n",
      "sent\n",
      "sending\n",
      "sent\n",
      "sending\n",
      "sent\n",
      "sending\n",
      "sent\n",
      "sending\n",
      "sent\n",
      "sending\n",
      "sent\n",
      "sending\n",
      "sent\n",
      "sending\n",
      "sent\n"
     ]
    },
    {
     "ename": "KeyboardInterrupt",
     "evalue": "",
     "output_type": "error",
     "traceback": [
      "\u001b[1;31m---------------------------------------------------------------------------\u001b[0m",
      "\u001b[1;31mKeyboardInterrupt\u001b[0m                         Traceback (most recent call last)",
      "\u001b[1;32mc:\\Users\\supsu\\OneDrive\\Proj\\Data Transfer Python\\Animal Classes Py\\CreatePopulationModel.ipynb Cell 6\u001b[0m in \u001b[0;36m<cell line: 23>\u001b[1;34m()\u001b[0m\n\u001b[0;32m     <a href='vscode-notebook-cell:/c%3A/Users/supsu/OneDrive/Proj/Data%20Transfer%20Python/Animal%20Classes%20Py/CreatePopulationModel.ipynb#W5sZmlsZQ%3D%3D?line=9'>10</a>\u001b[0m \u001b[39m# while (sent != True):\u001b[39;00m\n\u001b[0;32m     <a href='vscode-notebook-cell:/c%3A/Users/supsu/OneDrive/Proj/Data%20Transfer%20Python/Animal%20Classes%20Py/CreatePopulationModel.ipynb#W5sZmlsZQ%3D%3D?line=10'>11</a>\u001b[0m \u001b[39m#     time.sleep(0.1)\u001b[39;00m\n\u001b[0;32m     <a href='vscode-notebook-cell:/c%3A/Users/supsu/OneDrive/Proj/Data%20Transfer%20Python/Animal%20Classes%20Py/CreatePopulationModel.ipynb#W5sZmlsZQ%3D%3D?line=11'>12</a>\u001b[0m \u001b[39m#     sock.sendall(data.encode(\"UTF-8\"))\u001b[39;00m\n\u001b[1;32m   (...)\u001b[0m\n\u001b[0;32m     <a href='vscode-notebook-cell:/c%3A/Users/supsu/OneDrive/Proj/Data%20Transfer%20Python/Animal%20Classes%20Py/CreatePopulationModel.ipynb#W5sZmlsZQ%3D%3D?line=15'>16</a>\u001b[0m \u001b[39m#         print(\"sent\")\u001b[39;00m\n\u001b[0;32m     <a href='vscode-notebook-cell:/c%3A/Users/supsu/OneDrive/Proj/Data%20Transfer%20Python/Animal%20Classes%20Py/CreatePopulationModel.ipynb#W5sZmlsZQ%3D%3D?line=16'>17</a>\u001b[0m \u001b[39m#         sent = True\u001b[39;00m\n\u001b[0;32m     <a href='vscode-notebook-cell:/c%3A/Users/supsu/OneDrive/Proj/Data%20Transfer%20Python/Animal%20Classes%20Py/CreatePopulationModel.ipynb#W5sZmlsZQ%3D%3D?line=21'>22</a>\u001b[0m \u001b[39mwhile\u001b[39;00m \u001b[39mTrue\u001b[39;00m:\n\u001b[1;32m---> <a href='vscode-notebook-cell:/c%3A/Users/supsu/OneDrive/Proj/Data%20Transfer%20Python/Animal%20Classes%20Py/CreatePopulationModel.ipynb#W5sZmlsZQ%3D%3D?line=22'>23</a>\u001b[0m     time\u001b[39m.\u001b[39;49msleep(\u001b[39m2\u001b[39;49m)\n\u001b[0;32m     <a href='vscode-notebook-cell:/c%3A/Users/supsu/OneDrive/Proj/Data%20Transfer%20Python/Animal%20Classes%20Py/CreatePopulationModel.ipynb#W5sZmlsZQ%3D%3D?line=23'>24</a>\u001b[0m     sock\u001b[39m.\u001b[39msendall(data\u001b[39m.\u001b[39mencode(\u001b[39m\"\u001b[39m\u001b[39mUTF-8\u001b[39m\u001b[39m\"\u001b[39m))\n\u001b[0;32m     <a href='vscode-notebook-cell:/c%3A/Users/supsu/OneDrive/Proj/Data%20Transfer%20Python/Animal%20Classes%20Py/CreatePopulationModel.ipynb#W5sZmlsZQ%3D%3D?line=24'>25</a>\u001b[0m     recievedData \u001b[39m=\u001b[39m sock\u001b[39m.\u001b[39mrecv(\u001b[39m1024\u001b[39m)\u001b[39m.\u001b[39mdecode(\u001b[39m\"\u001b[39m\u001b[39mUTF-8\u001b[39m\u001b[39m\"\u001b[39m)\n",
      "\u001b[1;31mKeyboardInterrupt\u001b[0m: "
     ]
    }
   ],
   "source": [
    "# import socket\n",
    "# import time\n",
    "# import keyboard\n",
    "\n",
    "# host, port = \"127.0.0.1\", 64738\n",
    "# sock = socket.socket(socket.AF_INET, socket.SOCK_STREAM)\n",
    "# sock.connect((host, port))\n",
    "# data = \"instwolf\"\n",
    "\n",
    "# # while (sent != True):\n",
    "# #     time.sleep(0.1)\n",
    "# #     sock.sendall(data.encode(\"UTF-8\"))\n",
    "# #     recievedData = sock.recv(1024).decode(\"UTF-8\")\n",
    "# #     print(\"sending\")\n",
    "# #     if recievedData == \"success\":\n",
    "# #         print(\"sent\")\n",
    "# #         sent = True\n",
    "\n",
    "\n",
    "\n",
    "\n",
    "# while True:\n",
    "#     time.sleep(2)\n",
    "#     sock.sendall(data.encode(\"UTF-8\"))\n",
    "#     recievedData = sock.recv(1024).decode(\"UTF-8\")\n",
    "#     print(\"sending\")\n",
    "#     if recievedData == \"success\":\n",
    "#         print(\"sent\")"
   ]
  },
  {
   "cell_type": "code",
   "execution_count": null,
   "metadata": {},
   "outputs": [],
   "source": [
    "# host, port = \"127.0.0.1\", 64738 #################################################\n",
    "# sock = socket.socket(socket.AF_INET, socket.SOCK_STREAM) #################################################\n",
    "# sock.connect((host, port)) #################################################\n",
    "# sock.close()"
   ]
  },
  {
   "cell_type": "code",
   "execution_count": null,
   "metadata": {},
   "outputs": [
    {
     "data": {
      "text/plain": [
       "'{\"preyList\": [{\"rabbits\": [{\"attack\": 7, \"health\": 5, \"speed\": 7, \"guid\": \"5a8a9b88-789a-47dc-814c-61477f9eaf0e\"}, {\"attack\": 2, \"health\": 7, \"speed\": 8, \"guid\": \"87923193-0f92-4e19-a500-6837e98ada85\"}]}, {\"deer\": [{\"attack\": 7, \"health\": 7, \"speed\": 10, \"guid\": \"fc204b51-83ec-4c25-abf7-105cea456c7e\"}, {\"attack\": 9, \"health\": 2, \"speed\": 1, \"guid\": \"99bf31bc-211f-4022-9403-318fc73c4569\"}]}], \"predList\": [{\"wolves\": [{\"attack\": 7, \"health\": 3, \"speed\": 8, \"guid\": \"0e40a8af-3781-4363-8c18-17326b917515\"}, {\"attack\": 4, \"health\": 2, \"speed\": 4, \"guid\": \"00006468-d37d-425d-bbbe-29ec5ef38dda\"}]}, {\"jaguars\": [{\"attack\": 6, \"health\": 6, \"speed\": 3, \"guid\": \"0bf9d2de-817c-4724-b747-40d42d0bee4e\"}, {\"attack\": 8, \"health\": 10, \"speed\": 8, \"guid\": \"048e994e-0409-40be-8051-c81d0200a25d\"}]}]}'"
      ]
     },
     "execution_count": 13,
     "metadata": {},
     "output_type": "execute_result"
    }
   ],
   "source": [
    "# startPop"
   ]
  },
  {
   "cell_type": "code",
   "execution_count": null,
   "metadata": {},
   "outputs": [],
   "source": [
    "# out_file = open(\"startingPopulation.json\", \"w\")\n",
    "# json.dump(startPop, out_file, indent = 4)\n",
    "# out_file.close()"
   ]
  }
 ],
 "metadata": {
  "kernelspec": {
   "display_name": "4opencv",
   "language": "python",
   "name": "python3"
  },
  "language_info": {
   "codemirror_mode": {
    "name": "ipython",
    "version": 3
   },
   "file_extension": ".py",
   "mimetype": "text/x-python",
   "name": "python",
   "nbconvert_exporter": "python",
   "pygments_lexer": "ipython3",
   "version": "3.7.12"
  },
  "orig_nbformat": 4,
  "vscode": {
   "interpreter": {
    "hash": "02f7b4005e114b4721dda66080288c9f0ba478e7a6e6596001d23b25d0361f1b"
   }
  }
 },
 "nbformat": 4,
 "nbformat_minor": 2
}
