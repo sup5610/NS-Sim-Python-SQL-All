{
 "cells": [
  {
   "cell_type": "code",
   "execution_count": 2,
   "metadata": {},
   "outputs": [],
   "source": [
    "import json, time, socket, random, uuid # libraries imported"
   ]
  },
  {
   "cell_type": "code",
   "execution_count": 3,
   "metadata": {},
   "outputs": [],
   "source": [
    "class Animal: # class defined\n",
    "    def __init__(self, attack, maxHealth, speed, viewDistance, isMale, guid, isProgenitor):\n",
    "        self.attack = attack\n",
    "        self.maxHealth = maxHealth\n",
    "        self.speed = speed\n",
    "        self.viewDistance = viewDistance\n",
    "        self.isMale = isMale\n",
    "        self.guid = guid\n",
    "        self.isProgenitor = isProgenitor"
   ]
  },
  {
   "cell_type": "code",
   "execution_count": 4,
   "metadata": {},
   "outputs": [],
   "source": [
    "def init_population(startingPopulation): # function to generate starting population\n",
    "    preyList = []\n",
    "    predatorsList = []\n",
    "\n",
    "    def generateStats(): # generate the random stats\n",
    "        atk = round(random.uniform(5, 8), 2)\n",
    "        maxHp = round(random.uniform(9, 15), 2)\n",
    "        speed = round(random.uniform(5, 15), 2)\n",
    "        viewDistance = round(random.uniform(40, 80), 2)\n",
    "        isMale = (random.randint(1, 2) % 2)\n",
    "        guid = str(uuid.uuid4())\n",
    "        isProgenitor = True\n",
    "\n",
    "        return atk, maxHp, speed, viewDistance, isMale, guid, isProgenitor\n",
    "\n",
    "    for i in range(startingPopulation // 2):\n",
    "        atk, maxHp, speed, viewDistance, isMale, guid, isProgenitor = generateStats()\n",
    "        predatorsList.append(Animal(atk, maxHp, speed, viewDistance, isMale, guid, isProgenitor).__dict__)\n",
    "\n",
    "    for j in range(startingPopulation // 2):\n",
    "        atk, maxHp, speed, viewDistance, isMale, guid, isProgenitor = generateStats()\n",
    "        preyList.append(Animal(atk, maxHp, speed, viewDistance, isMale, guid, isProgenitor).__dict__)\n",
    "\n",
    "    if ((startingPopulation) % 2 != 0): # if desired starting population is an odd number\n",
    "        if (random.randint(1, 2) % 2): # extra animal will be assigned randomly to predator or prey\n",
    "            atk, maxHp, speed, viewDistance, isMale, guid, isProgenitor = generateStats()\n",
    "            predatorsList.append(Animal(atk, maxHp, speed, viewDistance, isMale, guid, isProgenitor).__dict__)\n",
    "        else:\n",
    "            atk, maxHp, speed, viewDistance, isMale, guid, isProgenitor = generateStats()\n",
    "            preyList.append(Animal(atk, maxHp, speed, viewDistance, isMale, guid, isProgenitor).__dict__)\n",
    "\n",
    "    # return predatorsList, preyList # for JSON file\n",
    "    return (\"jsonpred\" + json.dumps(predatorsList)), (\"jsonprey\" + json.dumps(preyList)) # for JSON string\n"
   ]
  },
  {
   "cell_type": "code",
   "execution_count": 5,
   "metadata": {},
   "outputs": [],
   "source": [
    "def send_data(startingPopulation):\n",
    "    sentPredatorInfo = False\n",
    "    sentPreyInfo = False\n",
    "    host, port = \"127.0.0.1\", 64738\n",
    "    sock = socket.socket(socket.AF_INET, socket.SOCK_STREAM)\n",
    "    sock.connect((host, port))\n",
    "\n",
    "    while (sentPredatorInfo != True):\n",
    "        time.sleep(1)\n",
    "        print(\"pred\")\n",
    "        sock.sendall(startingPopulation[0].encode(\"UTF-8\")) # startingPopulation[0] is the predators list\n",
    "    \n",
    "        recievedData = sock.recv(1024).decode(\"UTF-8\")\n",
    "        if (recievedData == \"rec\"):\n",
    "            sentPredatorInfo = True\n",
    "            print(\"success\")\n",
    "\n",
    "    while (sentPreyInfo != True):\n",
    "        time.sleep(1)\n",
    "        print(\"prey\")\n",
    "        sock.sendall(startingPopulation[1].encode(\"UTF-8\")) # startingPopulation[1] is the prey list\n",
    "    \n",
    "        recievedData = sock.recv(1024).decode(\"UTF-8\")\n",
    "        if (recievedData == \"rec\"):\n",
    "            sentPreyInfo = True\n",
    "            print(\"success\")\n",
    "\n",
    "    while (True):\n",
    "        time.sleep(1)\n",
    "        sock.sendall(\"idle\".encode(\"UTF-8\"))\n",
    "\n",
    "        recievedData = sock.recv(1024).decode(\"UTF-8\")\n",
    "        if (recievedData == \"rec\"):\n",
    "            print(\"idling\")"
   ]
  },
  {
   "cell_type": "code",
   "execution_count": 6,
   "metadata": {},
   "outputs": [
    {
     "name": "stdout",
     "output_type": "stream",
     "text": [
      "pred\n",
      "success\n",
      "prey\n",
      "success\n",
      "idling\n",
      "idling\n",
      "idling\n",
      "idling\n",
      "idling\n",
      "idling\n",
      "idling\n",
      "idling\n",
      "idling\n",
      "idling\n",
      "idling\n",
      "idling\n",
      "idling\n",
      "idling\n",
      "idling\n",
      "idling\n",
      "idling\n",
      "idling\n",
      "idling\n",
      "idling\n",
      "idling\n",
      "idling\n",
      "idling\n",
      "idling\n",
      "idling\n",
      "idling\n",
      "idling\n",
      "idling\n",
      "idling\n",
      "idling\n",
      "idling\n",
      "idling\n",
      "idling\n",
      "idling\n",
      "idling\n",
      "idling\n",
      "idling\n",
      "idling\n",
      "idling\n",
      "idling\n",
      "idling\n",
      "idling\n",
      "idling\n",
      "idling\n",
      "idling\n",
      "idling\n",
      "idling\n",
      "idling\n",
      "idling\n",
      "idling\n",
      "idling\n",
      "idling\n",
      "idling\n",
      "idling\n",
      "idling\n",
      "idling\n",
      "idling\n",
      "idling\n",
      "idling\n",
      "idling\n",
      "idling\n",
      "idling\n",
      "idling\n",
      "idling\n",
      "idling\n",
      "idling\n",
      "idling\n",
      "idling\n",
      "idling\n",
      "idling\n",
      "idling\n",
      "idling\n",
      "idling\n",
      "idling\n",
      "idling\n",
      "idling\n",
      "idling\n",
      "idling\n",
      "idling\n",
      "idling\n",
      "idling\n",
      "idling\n",
      "idling\n",
      "idling\n",
      "idling\n",
      "idling\n",
      "idling\n",
      "idling\n",
      "idling\n",
      "idling\n",
      "idling\n",
      "idling\n",
      "idling\n",
      "idling\n",
      "idling\n",
      "idling\n",
      "idling\n",
      "idling\n",
      "idling\n",
      "idling\n",
      "idling\n"
     ]
    },
    {
     "ename": "KeyboardInterrupt",
     "evalue": "",
     "output_type": "error",
     "traceback": [
      "\u001b[1;31m---------------------------------------------------------------------------\u001b[0m",
      "\u001b[1;31mKeyboardInterrupt\u001b[0m                         Traceback (most recent call last)",
      "\u001b[1;32m~\\AppData\\Local\\Temp\\ipykernel_59880\\1313599913.py\u001b[0m in \u001b[0;36m<module>\u001b[1;34m\u001b[0m\n\u001b[0;32m      1\u001b[0m \u001b[1;31m# send_data(init_population(2))\u001b[0m\u001b[1;33m\u001b[0m\u001b[1;33m\u001b[0m\u001b[1;33m\u001b[0m\u001b[0m\n\u001b[0;32m      2\u001b[0m \u001b[0msp\u001b[0m \u001b[1;33m=\u001b[0m \u001b[0minit_population\u001b[0m\u001b[1;33m(\u001b[0m\u001b[1;36m2\u001b[0m\u001b[1;33m)\u001b[0m\u001b[1;33m\u001b[0m\u001b[1;33m\u001b[0m\u001b[0m\n\u001b[1;32m----> 3\u001b[1;33m \u001b[0msend_data\u001b[0m\u001b[1;33m(\u001b[0m\u001b[0msp\u001b[0m\u001b[1;33m)\u001b[0m\u001b[1;33m\u001b[0m\u001b[1;33m\u001b[0m\u001b[0m\n\u001b[0m",
      "\u001b[1;32m~\\AppData\\Local\\Temp\\ipykernel_59880\\19178255.py\u001b[0m in \u001b[0;36msend_data\u001b[1;34m(startingPopulation)\u001b[0m\n\u001b[0;32m     27\u001b[0m \u001b[1;33m\u001b[0m\u001b[0m\n\u001b[0;32m     28\u001b[0m     \u001b[1;32mwhile\u001b[0m \u001b[1;33m(\u001b[0m\u001b[1;32mTrue\u001b[0m\u001b[1;33m)\u001b[0m\u001b[1;33m:\u001b[0m\u001b[1;33m\u001b[0m\u001b[1;33m\u001b[0m\u001b[0m\n\u001b[1;32m---> 29\u001b[1;33m         \u001b[0mtime\u001b[0m\u001b[1;33m.\u001b[0m\u001b[0msleep\u001b[0m\u001b[1;33m(\u001b[0m\u001b[1;36m1\u001b[0m\u001b[1;33m)\u001b[0m\u001b[1;33m\u001b[0m\u001b[1;33m\u001b[0m\u001b[0m\n\u001b[0m\u001b[0;32m     30\u001b[0m         \u001b[0msock\u001b[0m\u001b[1;33m.\u001b[0m\u001b[0msendall\u001b[0m\u001b[1;33m(\u001b[0m\u001b[1;34m\"idle\"\u001b[0m\u001b[1;33m.\u001b[0m\u001b[0mencode\u001b[0m\u001b[1;33m(\u001b[0m\u001b[1;34m\"UTF-8\"\u001b[0m\u001b[1;33m)\u001b[0m\u001b[1;33m)\u001b[0m\u001b[1;33m\u001b[0m\u001b[1;33m\u001b[0m\u001b[0m\n\u001b[0;32m     31\u001b[0m \u001b[1;33m\u001b[0m\u001b[0m\n",
      "\u001b[1;31mKeyboardInterrupt\u001b[0m: "
     ]
    }
   ],
   "source": [
    "# send_data(init_population(2))\n",
    "sp = init_population(2)\n",
    "send_data(sp)"
   ]
  },
  {
   "cell_type": "code",
   "execution_count": 56,
   "metadata": {},
   "outputs": [
    {
     "data": {
      "text/plain": [
       "('jsonpred[{\"attack\": 7.35, \"health\": 9.66, \"speed\": 10.93, \"viewDistance\": 73.16, \"isMale\": 0, \"guid\": \"de2663c9-e57b-4ece-9732-b2d44efc42b0\", \"isProgenitor\": true}]',\n",
       " 'jsonprey[{\"attack\": 7.46, \"health\": 11.12, \"speed\": 14.99, \"viewDistance\": 43.96, \"isMale\": 0, \"guid\": \"1b2d4a0e-64d6-4df4-be55-625887bf4484\", \"isProgenitor\": true}]')"
      ]
     },
     "execution_count": 56,
     "metadata": {},
     "output_type": "execute_result"
    }
   ],
   "source": [
    "sp"
   ]
  },
  {
   "cell_type": "code",
   "execution_count": 18,
   "metadata": {},
   "outputs": [
    {
     "data": {
      "text/plain": [
       "'jsonprey[{\"attack\": 7.27, \"health\": 12.29, \"speed\": 13.14, \"viewDistance\": 60.89, \"isMale\": 0, \"guid\": \"928fde3c-1084-4491-b45c-079a60efa0a7\", \"isProgenitor\": true}, {\"attack\": 5.48, \"health\": 13.07, \"speed\": 11.9, \"viewDistance\": 66.62, \"isMale\": 0, \"guid\": \"de36e203-d69b-421d-bf48-f9a699d9e9cb\", \"isProgenitor\": true}, {\"attack\": 5.37, \"health\": 9.17, \"speed\": 11.75, \"viewDistance\": 63.32, \"isMale\": 1, \"guid\": \"ae9ed437-3478-4d3a-98c7-04688df18f0e\", \"isProgenitor\": true}, {\"attack\": 5.3, \"health\": 13.96, \"speed\": 8.53, \"viewDistance\": 55.0, \"isMale\": 1, \"guid\": \"3ad3dcc2-b9c0-460c-b8b7-72bda1a59600\", \"isProgenitor\": true}, {\"attack\": 7.33, \"health\": 11.36, \"speed\": 14.8, \"viewDistance\": 74.12, \"isMale\": 1, \"guid\": \"9d39a96a-4403-4537-8d3d-c8d1c8a96155\", \"isProgenitor\": true}]'"
      ]
     },
     "execution_count": 18,
     "metadata": {},
     "output_type": "execute_result"
    }
   ],
   "source": [
    "# JSON string\n",
    "startingPopulation = init_population(10)\n",
    "predatorList = startingPopulation[0]\n",
    "preyList = startingPopulation[1]\n",
    "preyList"
   ]
  },
  {
   "cell_type": "code",
   "execution_count": 22,
   "metadata": {},
   "outputs": [],
   "source": [
    "# # JSON file\n",
    "# out_file = open(\"PredatorPopulation.json\", \"w\")\n",
    "# json.dump(init_population(10)[0], out_file, indent = 6)\n",
    "# out_file.close()\n",
    "\n",
    "# out_file = open(\"PreyPopulation.json\", \"w\")\n",
    "# json.dump(init_population(10)[1], out_file, indent = 6)\n",
    "# out_file.close()"
   ]
  }
 ],
 "metadata": {
  "kernelspec": {
   "display_name": "4opencv",
   "language": "python",
   "name": "python3"
  },
  "language_info": {
   "codemirror_mode": {
    "name": "ipython",
    "version": 3
   },
   "file_extension": ".py",
   "mimetype": "text/x-python",
   "name": "python",
   "nbconvert_exporter": "python",
   "pygments_lexer": "ipython3",
   "version": "3.7.12"
  },
  "orig_nbformat": 4,
  "vscode": {
   "interpreter": {
    "hash": "02f7b4005e114b4721dda66080288c9f0ba478e7a6e6596001d23b25d0361f1b"
   }
  }
 },
 "nbformat": 4,
 "nbformat_minor": 2
}
