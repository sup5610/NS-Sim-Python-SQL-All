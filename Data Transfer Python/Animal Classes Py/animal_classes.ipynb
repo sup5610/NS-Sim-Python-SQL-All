{
 "cells": [
  {
   "cell_type": "code",
   "execution_count": 20,
   "metadata": {},
   "outputs": [],
   "source": [
    "import socket\n",
    "import json\n",
    "import time"
   ]
  },
  {
   "cell_type": "code",
   "execution_count": 1,
   "metadata": {},
   "outputs": [],
   "source": [
    "import uuid"
   ]
  },
  {
   "cell_type": "code",
   "execution_count": 25,
   "metadata": {},
   "outputs": [
    {
     "data": {
      "text/plain": [
       "'c63214c9-bb4e-4df1-8d67-bbf7f06338b5'"
      ]
     },
     "execution_count": 25,
     "metadata": {},
     "output_type": "execute_result"
    }
   ],
   "source": [
    "rfc = uuid.uuid4()"
   ]
  },
  {
   "cell_type": "code",
   "execution_count": null,
   "metadata": {},
   "outputs": [],
   "source": [
    "host, port = \"127.0.0.1\", 64738\n",
    "sock = socket.socket(socket.AF_INET, socket.SOCK_STREAM)\n",
    "sock.connect((host, port))\n",
    "\n",
    "dataSent = False\n",
    "dataToSend = \"\"\n",
    "while (dataSent == False):\n",
    "    try:\n",
    "        sock.sendall(dataToSend.encode(\"UTF-8\"))\n",
    "        dataSent = True\n",
    "    except:\n",
    "        time.sleep(2)\n",
    "        print(\"data not sent\")"
   ]
  },
  {
   "cell_type": "code",
   "execution_count": 1,
   "metadata": {},
   "outputs": [],
   "source": [
    "# when animals have offspring, aggresion x1.5 \n",
    "\n",
    "class Animal:\n",
    "    def __init__(self, viewDist, viewAngle, antiCamo, camo, intimidation, aggression, damage, hp, speed, rateOfHunger, rateOfThirst, lifespan, intelligence, size, gestationPeriod, numberOffspring, offspringVicinity, age):\n",
    "        self.species = species\n",
    "        self.viewDist = viewDist\n",
    "        self.viewAngle = viewAngle\n",
    "        self.antiCamo = antiCamo\n",
    "        self.camo = camo\n",
    "        self.intimidation = intimidation\n",
    "        self.aggression = aggression\n",
    "        self.damage = damage\n",
    "        self.hp = hp\n",
    "        self.speed = speed\n",
    "        self.rateOfHunger = rateOfHunger\n",
    "        self.rateOfThirst = rateOfThirst\n",
    "        self.lifespan = lifespan\n",
    "        self.intelligence = intelligence\n",
    "        self.size = size\n",
    "        self.gestationPeriod = gestionPeriod\n",
    "        self.numberOffspring = numberOffspring\n",
    "        self.offspringVicinity = offspringVicinity\n",
    "        self.age = age\n",
    "\n",
    "class Prey(Animal):\n",
    "    def __init__(self, species):\n",
    "        self.species = species\n",
    "        super().__init__(viewDist, viewAngle, antiCamo, camo, intimidation, aggression, damage, hp, speed, rateOfHunger, rateOfThirst, lifespan, intelligence, size, gestationPeriod, numberOffspring. offspringVicinity)\n",
    "\n",
    "\n",
    "class Predator(Animal):\n",
    "    def __init__(self, species):\n",
    "        self.species = species\n",
    "        super().__init__(viewDist, viewAngle, antiCamo, camo, intimidation, aggression, damage, hp, speed, rateOfHunger, rateOfThirst, lifespan, intelligence, size, gestationPeriod, numberOffspring, offspringVicinity)\n",
    "\n",
    "\n"
   ]
  }
 ],
 "metadata": {
  "kernelspec": {
   "display_name": "Python 3.9.7 ('4opencv')",
   "language": "python",
   "name": "python3"
  },
  "language_info": {
   "codemirror_mode": {
    "name": "ipython",
    "version": 3
   },
   "file_extension": ".py",
   "mimetype": "text/x-python",
   "name": "python",
   "nbconvert_exporter": "python",
   "pygments_lexer": "ipython3",
   "version": "3.7.12"
  },
  "orig_nbformat": 4,
  "vscode": {
   "interpreter": {
    "hash": "02f7b4005e114b4721dda66080288c9f0ba478e7a6e6596001d23b25d0361f1b"
   }
  }
 },
 "nbformat": 4,
 "nbformat_minor": 2
}
