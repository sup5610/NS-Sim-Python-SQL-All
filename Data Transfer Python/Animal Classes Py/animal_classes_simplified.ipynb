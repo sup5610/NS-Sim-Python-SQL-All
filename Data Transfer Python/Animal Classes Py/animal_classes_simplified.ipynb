{
 "cells": [
  {
   "cell_type": "code",
   "execution_count": 1,
   "metadata": {},
   "outputs": [],
   "source": [
    "import json"
   ]
  },
  {
   "cell_type": "code",
   "execution_count": 2,
   "metadata": {},
   "outputs": [],
   "source": [
    "class Animal:\n",
    "    def __init__(self, size, color):\n",
    "        self.size = size\n",
    "        self.color = color\n",
    "\n",
    "    def getAttributes(self):\n",
    "        return self.size, self.color\n",
    "\n",
    "\n",
    "\n",
    "class Prey(Animal):\n",
    "    def __init__(self, size, color, species):\n",
    "        super().__init__(size, color)\n",
    "        self.species = species\n",
    "\n",
    "    def getAttributes(self):\n",
    "        return self.size, self.color, self.species\n",
    "\n",
    "class Predator(Animal):\n",
    "    def __init__(self, size, color, species):\n",
    "        super().__init__(size, color)\n",
    "        self.species = species\n",
    "    \n",
    "    def getAttributes(self):\n",
    "        return self.size, self.color, self.species"
   ]
  },
  {
   "cell_type": "code",
   "execution_count": 3,
   "metadata": {},
   "outputs": [
    {
     "name": "stdout",
     "output_type": "stream",
     "text": [
      "10\n",
      "(10, 'White', 'Rabbit')\n"
     ]
    }
   ],
   "source": [
    "\n",
    "newAnimal = Animal(10, \"Brown\")\n",
    "print(newAnimal.size)\n",
    "newPrey = Prey(10, \"White\", \"Rabbit\")\n",
    "print(newPrey.getAttributes())"
   ]
  },
  {
   "cell_type": "code",
   "execution_count": 4,
   "metadata": {},
   "outputs": [],
   "source": [
    "objs = [Prey(10, \"red\", \"rabbit\") for i in range(10)] # initialise multiple instances of a class"
   ]
  },
  {
   "cell_type": "code",
   "execution_count": 5,
   "metadata": {},
   "outputs": [],
   "source": [
    "def init_stats(numPrey, numPred):\n",
    "    preyList = [Prey(10, \"red\", \"rabbit\") for i in range(numPrey)]\n",
    "    predList = [Predator(10, \"red\", \"wolf\") for i in range(numPred)]\n",
    "    \n",
    "    startPop = {\"preyList\": preyList, \"predList\": predList}\n",
    "    startPop[\"preyList\"] = [i.getAttributes() for i in startPop[\"preyList\"]]\n",
    "    startPop[\"predList\"] = [i.getAttributes() for i in startPop[\"predList\"]]\n",
    "\n",
    "    return startPop\n",
    "\n"
   ]
  },
  {
   "cell_type": "code",
   "execution_count": 6,
   "metadata": {},
   "outputs": [],
   "source": [
    "startPop = init_stats(3, 3)\n",
    "jsonData = json.dumps(startPop)"
   ]
  },
  {
   "cell_type": "code",
   "execution_count": 7,
   "metadata": {},
   "outputs": [
    {
     "data": {
      "text/plain": [
       "'{\"preyList\": [[10, \"red\", \"rabbit\"], [10, \"red\", \"rabbit\"], [10, \"red\", \"rabbit\"]], \"predList\": [[10, \"red\", \"wolf\"], [10, \"red\", \"wolf\"], [10, \"red\", \"wolf\"]]}'"
      ]
     },
     "execution_count": 7,
     "metadata": {},
     "output_type": "execute_result"
    }
   ],
   "source": [
    "jsonData"
   ]
  },
  {
   "cell_type": "code",
   "execution_count": 8,
   "metadata": {},
   "outputs": [],
   "source": [
    "# Json data transfer through file writing\n",
    "\n",
    "startPop = init_stats(10, 10)\n",
    "out_file = open(\"jsonFile.json\", \"w\")\n",
    "json.dump(startPop, out_file, indent = 4)\n",
    "out_file.close()"
   ]
  },
  {
   "cell_type": "code",
   "execution_count": 9,
   "metadata": {},
   "outputs": [],
   "source": [
    "import socket\n",
    "import time\n",
    "\n",
    "host, port = \"127.0.0.1\", 64738\n",
    "sock = socket.socket(socket.AF_INET, socket.SOCK_STREAM)\n",
    "sock.connect((host, port))\n",
    "\n",
    "sendData = jsonData\n",
    "\n",
    "while True:\n",
    "    time.sleep(1)\n",
    "\n",
    "    sock.sendall(sendData.encode(\"UTF-8\")) # send data\n",
    "    recievedData = sock.recv(1024).decode(\"UTF-8\") # recieve data\n",
    "    print(recievedData)"
   ]
  }
 ],
 "metadata": {
  "kernelspec": {
   "display_name": "Python 3.9.7 ('4opencv')",
   "language": "python",
   "name": "python3"
  },
  "language_info": {
   "codemirror_mode": {
    "name": "ipython",
    "version": 3
   },
   "file_extension": ".py",
   "mimetype": "text/x-python",
   "name": "python",
   "nbconvert_exporter": "python",
   "pygments_lexer": "ipython3",
   "version": "3.7.12"
  },
  "orig_nbformat": 4,
  "vscode": {
   "interpreter": {
    "hash": "02f7b4005e114b4721dda66080288c9f0ba478e7a6e6596001d23b25d0361f1b"
   }
  }
 },
 "nbformat": 4,
 "nbformat_minor": 2
}
