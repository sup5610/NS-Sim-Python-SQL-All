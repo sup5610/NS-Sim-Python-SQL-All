{
 "cells": [
  {
   "cell_type": "code",
   "execution_count": null,
   "metadata": {},
   "outputs": [],
   "source": [
    "import sqlite3\n",
    "import random"
   ]
  },
  {
   "cell_type": "code",
   "execution_count": 4,
   "metadata": {},
   "outputs": [],
   "source": [
    "def getCommands(): \n",
    "    fd = open(\"database_commands.sql\", \"r\")\n",
    "\n",
    "    sqlFile = fd.read()\n",
    "    fd.close()\n",
    "\n",
    "    sqlCommands = sqlFile.split(\";\")\n",
    "\n",
    "    cmdDict = {\"results\": None, \"wolf\": None, \"jaguar\": None, \"rabbit\": None, \"deer\": None}\n",
    "    i = 0\n",
    "    for key in cmdDict:\n",
    "        cmdDict[key] = sqlCommands[i]\n",
    "        i += 1\n",
    "\n",
    "    return cmdDict"
   ]
  },
  {
   "cell_type": "code",
   "execution_count": 5,
   "metadata": {},
   "outputs": [],
   "source": [
    "def generateData():\n",
    "    randNums = []\n",
    "    for i in range(16):\n",
    "        if i % 4 == 0:\n",
    "            randNums.append(random.randint(0, 10))\n",
    "        else:\n",
    "            randNums.append(round(random.uniform(0, 5), 3))\n",
    "    \n",
    "    return randNums\n",
    "\n",
    "def establishConnection():\n",
    "    con = sqlite3.connect(\"natural_selection.db\")\n",
    "    cur = con.cursor()\n",
    "\n",
    "    return con, cur"
   ]
  },
  {
   "cell_type": "code",
   "execution_count": 156,
   "metadata": {},
   "outputs": [],
   "source": [
    "def AddResults(username, data):\n",
    "    cmdDict = getCommands()\n",
    "\n",
    "    wolfData = data[0:4]\n",
    "    jaguarData = data[4:8]\n",
    "    rabbitData = data[8:12]\n",
    "    deerData = data[12:16]\n",
    "\n",
    "    con, cur = establishConnection()\n",
    "\n",
    "    cur.execute(cmdDict[\"results\"].format(username = username))\n",
    "\n",
    "\n",
    "    query = \"SELECT MAX(RUN_ID) FROM results WHERE RUNNER_ID = ((SELECT USER_ID FROM login WHERE USERNAME = '{username}'))\"\n",
    "    cur.execute(query.format(username = username))\n",
    "    run_id = cur.fetchone()\n",
    "\n",
    "    cur.execute(cmdDict[\"wolf\"].format(run_id = run_id[0], population = wolfData[0], atk = wolfData[1], hp = wolfData[2], spd = wolfData[3]))\n",
    "    cur.execute(cmdDict[\"jaguar\"].format(run_id = run_id[0], population = jaguarData[0], atk = jaguarData[1], hp = jaguarData[2], spd = jaguarData[3]))\n",
    "    cur.execute(cmdDict[\"rabbit\"].format(run_id = run_id[0], population = rabbitData[0], atk = rabbitData[1], hp = rabbitData[2], spd = rabbitData[3]))\n",
    "    cur.execute(cmdDict[\"deer\"].format(run_id = run_id[0], population = deerData[0], atk = deerData[1], hp = deerData[2], spd = deerData[3]))\n",
    "\n",
    "    con.commit()\n",
    "    con.close()\n"
   ]
  },
  {
   "cell_type": "code",
   "execution_count": 158,
   "metadata": {},
   "outputs": [],
   "source": [
    "# data = generateData()\n",
    "# username = \"user1\"\n",
    "# AddResults(username, data)"
   ]
  }
 ],
 "metadata": {
  "kernelspec": {
   "display_name": "Python 3.9.13 64-bit (microsoft store)",
   "language": "python",
   "name": "python3"
  },
  "language_info": {
   "codemirror_mode": {
    "name": "ipython",
    "version": 3
   },
   "file_extension": ".py",
   "mimetype": "text/x-python",
   "name": "python",
   "nbconvert_exporter": "python",
   "pygments_lexer": "ipython3",
   "version": "3.9.13"
  },
  "orig_nbformat": 4,
  "vscode": {
   "interpreter": {
    "hash": "a402964f23e042ea1433e5f9c0acd32bfaadbc7ae7feec8525e1f80256e0e173"
   }
  }
 },
 "nbformat": 4,
 "nbformat_minor": 2
}
