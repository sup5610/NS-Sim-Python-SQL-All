{
 "cells": [
  {
   "cell_type": "code",
   "execution_count": 212,
   "metadata": {},
   "outputs": [],
   "source": [
    "import sqlite3"
   ]
  },
  {
   "cell_type": "code",
   "execution_count": 233,
   "metadata": {},
   "outputs": [
    {
     "name": "stdout",
     "output_type": "stream",
     "text": [
      "{'insert_results': 'INSERT INTO results (RUNNER_ID) VALUES (\\n    (SELECT USER_ID FROM login WHERE USERNAME = \":USERNAME_PLACEHOLDER\")\\n)', 'insert_wolf': '\\nINSERT INTO wolf_results (RUN_ID, POPULATION, AVG_ATK, AVG_HP, AVG_SPD) VALUES (\\n    (SELECT RUN_ID FROM results WHERE RUN_ID = \":RUN_ID_PLACEHOLDER\"),\\n    \":POPULATION\",\\n    \":AVG_ATK\",\\n    \":AVG_HP\",\\n    \":AVG_SPD\",\\n)', 'insert_rabbit': '\\nINSERT INTO jaguar_results (RUN_ID, POPULATION, AVG_ATK, AVG_HP, AVG_SPD) VALUES (\\n    (SELECT RUN_ID FROM results WHERE RUN_ID = \":RUN_ID_PLACEHOLDER\"),\\n    \":POPULATION\",\\n    \":AVG_ATK\",\\n    \":AVG_HP\",\\n    \":AVG_SPD\",\\n)', 'insert_deer': '\\nINSERT INTO rabbit_results (RUN_ID, POPULATION, AVG_ATK, AVG_HP, AVG_SPD) VALUES (\\n    (SELECT RUN_ID FROM results WHERE RUN_ID = \":RUN_ID_PLACEHOLDER\"),\\n    \":POPULATION\",\\n    \":AVG_ATK\",\\n    \":AVG_HP\",\\n    \":AVG_SPD\",\\n)'}\n"
     ]
    }
   ],
   "source": [
    "fd = open(\"database_commands.sql\", \"r\")\n",
    "sqlFile = fd.read()\n",
    "fd.close()\n",
    "\n",
    "sqlCommands = sqlFile.split(\";\")\n",
    "\n",
    "commandDictionary = {\"insert_results\": None, \"insert_wolf\": None, \"insert_jaguar\": None, \"insert_rabbit\": None, \"insert_deer\": None}\n",
    "i = 0\n",
    "for key in commandDictionary:\n",
    "    commandDictionary[key] = sqlCommands[i]\n",
    "    i += 1\n",
    "\n",
    "print(commandDictionary)\n"
   ]
  },
  {
   "cell_type": "code",
   "execution_count": 116,
   "metadata": {},
   "outputs": [],
   "source": [
    "# username = \"admin1\"\n",
    "# commandDictionary[\"insert_results\"] = commandDictionary[\"insert_results\"].replace(\"USERNAME_PLACEHOLDER\", username)\n",
    "# commandDictionary[\"insert_results\"]\n",
    "\n",
    "# con = sqlite3.connect(\"natural_selection.db\", timeout = 20)\n",
    "# cur = con.cursor()\n",
    "\n",
    "# cur.execute(commandDictionary[\"insert_results\"])\n",
    "\n",
    "# con.commit()\n",
    "# con.close()"
   ]
  },
  {
   "cell_type": "code",
   "execution_count": 239,
   "metadata": {},
   "outputs": [],
   "source": [
    "def AddResults(username, arrayData):\n",
    "    # commandDictionary[\"insert_results\"] = commandDictionary[\"insert_results\"].replace(\"USERNAME_PLACEHOLDER\", username)\n",
    "\n",
    "    wolfData = arrayData[0:4]\n",
    "    jaguarData = arrayData[4:8]\n",
    "    rabbitData = arrayData[8:12]\n",
    "    deerData = arrayData[12:16]\n",
    "\n",
    "    con = sqlite3.connect(\"natural_selection.db\", timeout = 20)\n",
    "    cur = con.cursor()\n",
    "\n",
    "    sql = commandDictionary[\"insert_results\"], {\"USERNAME_PLACEHOLDER\" : username}\n",
    "    cur.execute(str(sql))\n",
    "    query = \"SELECT MAX(RUN_ID) FROM results WHERE RUNNER_ID = (SELECT USER_ID FROM login WHERE USERNAME =: usn)\", {\"usn\" : username}\n",
    "    cur.execute(query)\n",
    "    RUN_ID = str(cur.fetchone())\n",
    "    print(type(query))\n",
    "\n",
    "    # AddWolfResults(RUN_ID, wolfData)\n",
    "    # AddJaguarResults(RUN_ID, jaguarData)\n",
    "    # AddRabbitResults(RUN_ID, rabbitData)\n",
    "    # AddDeerResults(RUN_ID, deerData)\n",
    "\n",
    "    con.commit()\n",
    "    con.close()\n",
    "\n",
    "\n",
    "def AddWolfResults(run_id, data):\n",
    "    # commandDictionary[\"insert_wolf\"] = commandDictionary[\"insert_wolf\"][::-1]\n",
    "    # commandDictionary[\"insert_wolf\"] = commandDictionary[\"insert_wolf\"].replace(\"POPULATION\"[::-1], data[0][::-1], 1).replace(\"AVG_ATK\"[::-1], data[1][::-1], 1).replace(\"AVG_HP\"[::-1], data[2][::-1], 1).replace(\"AVG_SPD\"[::-1], data[3][::-1], 1).replace(\"RUN_ID_PLACEHOLDER\"[::-1], run_id[::-1], 1)\n",
    "    # commandDictionary[\"insert_wolf\"] = commandDictionary[\"insert_wolf\"][::-1]\n",
    "    commandDictionary[\"insert_wolf\"] = commandDictionary[\"insert_wolf\"], {\"RUN_ID_PLACEHOLDER\" : run_id, \"POPULATION\" : data[0], \"AVG_ATK\" : data[1], \"AVG_HP\" : data[2], \"AVG_SPD\" : data[3]}\n",
    "\n",
    "    # commandDictionary[\"insert_wolf\"] = commandDictionary[\"insert_wolf\"].replace(\"POPULATION\"[::-1], data[0][::-1], 1).replace(\"AVG_ATK\"[::-1], data[1][::-1], 1).replace(\"AVG_HP\"[::-1], data[2][::-1], 1).replace(\"AVG_SPD\"[::-1], data[3][::-1], 1).replace(\"RUN_ID_PLACEHOLDER\"[::-1], run_id[::-1], 1)\n",
    "\n",
    "    con = sqlite3.connect(\"natural_selection.db\", timeout = 20)\n",
    "    cur = con.cursor()\n",
    "    cur.execute(commandDictionary[\"insert_wolf\"])\n",
    "    con.commit()\n",
    "    con.close()\n",
    "\n",
    "def AddJaguarResults(run_id, data):\n",
    "    # commandDictionary[\"insert_jaguar\"] = commandDictionary[\"insert_jaguar\"][::-1]\n",
    "    # commandDictionary[\"insert_jaguar\"] = commandDictionary[\"insert_jaguar\"].replace(\"POPULATION\"[::-1], data[0][::-1], 1).replace(\"AVG_ATK\"[::-1], data[1][::-1], 1).replace(\"AVG_HP\"[::-1], data[2][::-1], 1).replace(\"AVG_SPD\"[::-1], data[3][::-1], 1).replace(\"RUN_ID_PLACEHOLDER\"[::-1], run_id[::-1], 1)\n",
    "    # commandDictionary[\"insert_jaguar\"] = commandDictionary[\"insert_jaguar\"][::-1]\n",
    "    # commandDictionary[\"insert_jaguar\"] = StringToNumeric(commandDictionary[\"insert_jaguar\"])\n",
    "    commandDictionary[\"insert_jaguar\"] = commandDictionary[\"insert_jaguar\"], {\"RUN_ID_PLACEHOLDER\" : run_id, \"POPULATION\" : data[0], \"AVG_ATK\" : data[1], \"AVG_HP\" : data[2], \"AVG_SPD\" : data[3]}\n",
    "    con = sqlite3.connect(\"natural_selection.db\", timeout = 20)\n",
    "    cur = con.cursor()\n",
    "    cur.execute(commandDictionary[\"insert_jaguar\"])\n",
    "    con.commit()\n",
    "    con.close()\n",
    "\n",
    "def AddRabbitResults(run_id, data):\n",
    "    # commandDictionary[\"insert_rabbit\"] = commandDictionary[\"insert_rabbit\"][::-1]\n",
    "    # commandDictionary[\"insert_rabbit\"] = commandDictionary[\"insert_rabbit\"].replace(\"POPULATION\"[::-1], data[0][::-1], 1).replace(\"AVG_ATK\"[::-1], data[1][::-1], 1).replace(\"AVG_HP\"[::-1], data[2][::-1], 1).replace(\"AVG_SPD\"[::-1], data[3][::-1], 1).replace(\"RUN_ID_PLACEHOLDER\"[::-1], run_id[::-1], 1)\n",
    "    # commandDictionary[\"insert_rabbit\"] = commandDictionary[\"insert_rabbit\"][::-1]\n",
    "    # commandDictionary[\"insert_rabbit\"] = StringToNumeric(commandDictionary[\"insert_rabbit\"])\n",
    "    commandDictionary[\"insert_rabbit\"] = commandDictionary[\"insert_rabbit\"], {\"RUN_ID_PLACEHOLDER\" : run_id, \"POPULATION\" : data[0], \"AVG_ATK\" : data[1], \"AVG_HP\" : data[2], \"AVG_SPD\" : data[3]}\n",
    "    con = sqlite3.connect(\"natural_selection.db\", timeout = 20)\n",
    "    cur = con.cursor()\n",
    "    cur.execute(commandDictionary[\"insert_rabbit\"])\n",
    "    con.commit()\n",
    "    con.close()\n",
    "\n",
    "def AddDeerResults(run_id, data):\n",
    "    # commandDictionary[\"insert_deer\"] = commandDictionary[\"insert_deer\"][::-1]\n",
    "    # commandDictionary[\"insert_deer\"] = commandDictionary[\"insert_deer\"].replace(\"POPULATION\"[::-1], data[0][::-1], 1).replace(\"AVG_ATK\"[::-1], data[1][::-1], 1).replace(\"AVG_HP\"[::-1], data[2][::-1], 1).replace(\"AVG_SPD\"[::-1], data[3][::-1], 1).replace(\"RUN_ID_PLACEHOLDER\"[::-1], run_id[::-1], 1)\n",
    "    # commandDictionary[\"insert_deer\"] = commandDictionary[\"insert_deer\"][::-1]\n",
    "    # commandDictionary[\"insert_deer\"] = StringToNumeric(commandDictionary[\"insert_deer\"])\n",
    "    commandDictionary[\"insert_deer\"] = commandDictionary[\"insert_deer\"], {\"RUN_ID_PLACEHOLDER\" : run_id, \"POPULATION\" : data[0], \"AVG_ATK\" : data[1], \"AVG_HP\" : data[2], \"AVG_SPD\" : data[3]}\n",
    "    con = sqlite3.connect(\"natural_selection.db\", timeout = 20)\n",
    "    cur = con.cursor()\n",
    "    cur.execute(commandDictionary[\"insert_deer\"])\n",
    "    con.commit() \n",
    "    con.close()"
   ]
  },
  {
   "cell_type": "code",
   "execution_count": 240,
   "metadata": {},
   "outputs": [
    {
     "ename": "OperationalError",
     "evalue": "near \"(\": syntax error",
     "output_type": "error",
     "traceback": [
      "\u001b[1;31m---------------------------------------------------------------------------\u001b[0m",
      "\u001b[1;31mOperationalError\u001b[0m                          Traceback (most recent call last)",
      "\u001b[1;32m~\\AppData\\Local\\Temp\\ipykernel_16544\\3039066719.py\u001b[0m in \u001b[0;36m<module>\u001b[1;34m\u001b[0m\n\u001b[0;32m      1\u001b[0m \u001b[0mdata\u001b[0m \u001b[1;33m=\u001b[0m \u001b[0mGenerateData\u001b[0m\u001b[1;33m(\u001b[0m\u001b[1;33m)\u001b[0m\u001b[1;33m\u001b[0m\u001b[1;33m\u001b[0m\u001b[0m\n\u001b[1;32m----> 2\u001b[1;33m \u001b[0mAddResults\u001b[0m\u001b[1;33m(\u001b[0m\u001b[1;34m\"user1\"\u001b[0m\u001b[1;33m,\u001b[0m \u001b[0mdata\u001b[0m\u001b[1;33m)\u001b[0m\u001b[1;33m\u001b[0m\u001b[1;33m\u001b[0m\u001b[0m\n\u001b[0m",
      "\u001b[1;32m~\\AppData\\Local\\Temp\\ipykernel_16544\\608404772.py\u001b[0m in \u001b[0;36mAddResults\u001b[1;34m(username, arrayData)\u001b[0m\n\u001b[0;32m     11\u001b[0m \u001b[1;33m\u001b[0m\u001b[0m\n\u001b[0;32m     12\u001b[0m     \u001b[0msql\u001b[0m \u001b[1;33m=\u001b[0m \u001b[0mcommandDictionary\u001b[0m\u001b[1;33m[\u001b[0m\u001b[1;34m\"insert_results\"\u001b[0m\u001b[1;33m]\u001b[0m\u001b[1;33m,\u001b[0m \u001b[1;33m{\u001b[0m\u001b[1;34m\"USERNAME_PLACEHOLDER\"\u001b[0m \u001b[1;33m:\u001b[0m \u001b[0musername\u001b[0m\u001b[1;33m}\u001b[0m\u001b[1;33m\u001b[0m\u001b[1;33m\u001b[0m\u001b[0m\n\u001b[1;32m---> 13\u001b[1;33m     \u001b[0mcur\u001b[0m\u001b[1;33m.\u001b[0m\u001b[0mexecute\u001b[0m\u001b[1;33m(\u001b[0m\u001b[0mstr\u001b[0m\u001b[1;33m(\u001b[0m\u001b[0msql\u001b[0m\u001b[1;33m)\u001b[0m\u001b[1;33m)\u001b[0m\u001b[1;33m\u001b[0m\u001b[1;33m\u001b[0m\u001b[0m\n\u001b[0m\u001b[0;32m     14\u001b[0m     \u001b[0mquery\u001b[0m \u001b[1;33m=\u001b[0m \u001b[1;34m\"SELECT MAX(RUN_ID) FROM results WHERE RUNNER_ID = (SELECT USER_ID FROM login WHERE USERNAME =: usn)\"\u001b[0m\u001b[1;33m,\u001b[0m \u001b[1;33m{\u001b[0m\u001b[1;34m\"usn\"\u001b[0m \u001b[1;33m:\u001b[0m \u001b[0musername\u001b[0m\u001b[1;33m}\u001b[0m\u001b[1;33m\u001b[0m\u001b[1;33m\u001b[0m\u001b[0m\n\u001b[0;32m     15\u001b[0m     \u001b[0mcur\u001b[0m\u001b[1;33m.\u001b[0m\u001b[0mexecute\u001b[0m\u001b[1;33m(\u001b[0m\u001b[0mquery\u001b[0m\u001b[1;33m)\u001b[0m\u001b[1;33m\u001b[0m\u001b[1;33m\u001b[0m\u001b[0m\n",
      "\u001b[1;31mOperationalError\u001b[0m: near \"(\": syntax error"
     ]
    }
   ],
   "source": [
    "data = GenerateData()\n",
    "AddResults(\"user1\", data)"
   ]
  },
  {
   "cell_type": "code",
   "execution_count": 215,
   "metadata": {},
   "outputs": [
    {
     "data": {
      "text/plain": [
       "'INSERT INTO results (RUNNER_ID) VALUES (\\n    (SELECT USER_ID FROM login WHERE USERNAME = \":USERNAME_PLACEHOLDER\")\\n)'"
      ]
     },
     "execution_count": 215,
     "metadata": {},
     "output_type": "execute_result"
    }
   ],
   "source": [
    "commandDictionary[\"insert_results\"]"
   ]
  },
  {
   "cell_type": "code",
   "execution_count": 216,
   "metadata": {},
   "outputs": [],
   "source": [
    "import random\n",
    "def GenerateData():\n",
    "    randNums = []\n",
    "    for i in range(16):\n",
    "        if i % 4 == 0:\n",
    "            randNums.append(random.randint(0, 10))\n",
    "        else:\n",
    "            randNums.append(round(random.uniform(0, 5), 3))\n",
    "\n",
    "    # for k in range(len(randNums)):\n",
    "    #     randNums[k] = str(randNums[k]) \n",
    "    \n",
    "    return randNums"
   ]
  },
  {
   "cell_type": "code",
   "execution_count": 197,
   "metadata": {},
   "outputs": [],
   "source": [
    "import re\n",
    "\n",
    "# x = commandDictionary[\"insert_wolf\"]\n",
    "def StringToNumeric(string):\n",
    "    stringNumbers = re.findall(r\"\\d+(?:\\.\\d+)?\", string)\n",
    "    numbers = [float(i) for i in stringNumbers]\n",
    "    numbers[0] = math.floor(numbers[0])\n",
    "\n",
    "    for i in range(len(stringNumbers)):\n",
    "        index = string.index(stringNumbers[i])\n",
    "        string = string[0:index] + numbers[i] + string[index + len(stringNumbers[i])::]\n",
    "\n",
    "    return string\n",
    "\n",
    "# commandDictionary[\"insert_wolf\"] = StringToNumeric(commandDictionary[\"insert_wolf\"])\n",
    "# x"
   ]
  },
  {
   "cell_type": "code",
   "execution_count": 192,
   "metadata": {},
   "outputs": [
    {
     "ename": "OperationalError",
     "evalue": "near \"(\": syntax error",
     "output_type": "error",
     "traceback": [
      "\u001b[1;31m---------------------------------------------------------------------------\u001b[0m",
      "\u001b[1;31mOperationalError\u001b[0m                          Traceback (most recent call last)",
      "\u001b[1;32m~\\AppData\\Local\\Temp\\ipykernel_16544\\3911677456.py\u001b[0m in \u001b[0;36m<module>\u001b[1;34m\u001b[0m\n\u001b[0;32m      1\u001b[0m \u001b[0marrayData\u001b[0m \u001b[1;33m=\u001b[0m \u001b[0mGenerateData\u001b[0m\u001b[1;33m(\u001b[0m\u001b[1;33m)\u001b[0m\u001b[1;33m\u001b[0m\u001b[1;33m\u001b[0m\u001b[0m\n\u001b[0;32m      2\u001b[0m \u001b[0musername\u001b[0m \u001b[1;33m=\u001b[0m \u001b[1;34m\"user1\"\u001b[0m\u001b[1;33m\u001b[0m\u001b[1;33m\u001b[0m\u001b[0m\n\u001b[1;32m----> 3\u001b[1;33m \u001b[0mAddResults\u001b[0m\u001b[1;33m(\u001b[0m\u001b[0musername\u001b[0m\u001b[1;33m,\u001b[0m \u001b[0marrayData\u001b[0m\u001b[1;33m)\u001b[0m\u001b[1;33m\u001b[0m\u001b[1;33m\u001b[0m\u001b[0m\n\u001b[0m\u001b[0;32m      4\u001b[0m \u001b[1;31m# arrayData\u001b[0m\u001b[1;33m\u001b[0m\u001b[1;33m\u001b[0m\u001b[1;33m\u001b[0m\u001b[0m\n",
      "\u001b[1;32m~\\AppData\\Local\\Temp\\ipykernel_16544\\1802742410.py\u001b[0m in \u001b[0;36mAddResults\u001b[1;34m(username, arrayData)\u001b[0m\n\u001b[0;32m     11\u001b[0m \u001b[1;33m\u001b[0m\u001b[0m\n\u001b[0;32m     12\u001b[0m     \u001b[0msql\u001b[0m \u001b[1;33m=\u001b[0m \u001b[0mcommandDictionary\u001b[0m\u001b[1;33m[\u001b[0m\u001b[1;34m\"insert_results\"\u001b[0m\u001b[1;33m]\u001b[0m\u001b[1;33m,\u001b[0m \u001b[1;33m{\u001b[0m\u001b[1;34m\"USERNAME_PLACEHOLDER\"\u001b[0m \u001b[1;33m:\u001b[0m \u001b[0musername\u001b[0m\u001b[1;33m}\u001b[0m\u001b[1;33m\u001b[0m\u001b[1;33m\u001b[0m\u001b[0m\n\u001b[1;32m---> 13\u001b[1;33m     \u001b[0mcur\u001b[0m\u001b[1;33m.\u001b[0m\u001b[0mexecute\u001b[0m\u001b[1;33m(\u001b[0m\u001b[0mstr\u001b[0m\u001b[1;33m(\u001b[0m\u001b[0msql\u001b[0m\u001b[1;33m)\u001b[0m\u001b[1;33m)\u001b[0m\u001b[1;33m\u001b[0m\u001b[1;33m\u001b[0m\u001b[0m\n\u001b[0m\u001b[0;32m     14\u001b[0m     \u001b[0mquery\u001b[0m \u001b[1;33m=\u001b[0m \u001b[1;34m\"SELECT MAX(RUN_ID) FROM results WHERE RUNNER_ID = (SELECT USER_ID FROM login WHERE USERNAME =: usn)\"\u001b[0m\u001b[1;33m,\u001b[0m \u001b[1;33m{\u001b[0m\u001b[1;34m\"usn\"\u001b[0m \u001b[1;33m:\u001b[0m \u001b[0musername\u001b[0m\u001b[1;33m}\u001b[0m\u001b[1;33m\u001b[0m\u001b[1;33m\u001b[0m\u001b[0m\n\u001b[0;32m     15\u001b[0m     \u001b[0mcur\u001b[0m\u001b[1;33m.\u001b[0m\u001b[0mexecute\u001b[0m\u001b[1;33m(\u001b[0m\u001b[0mquery\u001b[0m\u001b[1;33m)\u001b[0m\u001b[1;33m\u001b[0m\u001b[1;33m\u001b[0m\u001b[0m\n",
      "\u001b[1;31mOperationalError\u001b[0m: near \"(\": syntax error"
     ]
    }
   ],
   "source": [
    "arrayData = GenerateData()\n",
    "username = \"user1\"\n",
    "AddResults(username, arrayData)\n",
    "# arrayData"
   ]
  },
  {
   "cell_type": "code",
   "execution_count": 122,
   "metadata": {},
   "outputs": [
    {
     "data": {
      "text/plain": [
       "['10',\n",
       " '1.826',\n",
       " '1.465',\n",
       " '1.075',\n",
       " '8',\n",
       " '4.451',\n",
       " '1.252',\n",
       " '4.988',\n",
       " '1',\n",
       " '2.281',\n",
       " '1.041',\n",
       " '2.025',\n",
       " '3',\n",
       " '0.797',\n",
       " '0.0',\n",
       " '0.64']"
      ]
     },
     "execution_count": 122,
     "metadata": {},
     "output_type": "execute_result"
    }
   ],
   "source": [
    "arrayData"
   ]
  },
  {
   "cell_type": "code",
   "execution_count": 238,
   "metadata": {},
   "outputs": [
    {
     "ename": "TypeError",
     "evalue": "sequence item 1: expected str instance, dict found",
     "output_type": "error",
     "traceback": [
      "\u001b[1;31m---------------------------------------------------------------------------\u001b[0m",
      "\u001b[1;31mTypeError\u001b[0m                                 Traceback (most recent call last)",
      "\u001b[1;32m~\\AppData\\Local\\Temp\\ipykernel_16544\\4041897584.py\u001b[0m in \u001b[0;36m<module>\u001b[1;34m\u001b[0m\n\u001b[1;32m----> 1\u001b[1;33m \u001b[0mcommandDictionary\u001b[0m\u001b[1;33m[\u001b[0m\u001b[1;34m\"insert_wolf\"\u001b[0m\u001b[1;33m]\u001b[0m \u001b[1;33m=\u001b[0m \u001b[1;34m\"\"\u001b[0m\u001b[1;33m.\u001b[0m\u001b[0mjoin\u001b[0m\u001b[1;33m(\u001b[0m\u001b[0mcommandDictionary\u001b[0m\u001b[1;33m[\u001b[0m\u001b[1;34m\"insert_wolf\"\u001b[0m\u001b[1;33m]\u001b[0m\u001b[1;33m)\u001b[0m\u001b[1;33m\u001b[0m\u001b[1;33m\u001b[0m\u001b[0m\n\u001b[0m",
      "\u001b[1;31mTypeError\u001b[0m: sequence item 1: expected str instance, dict found"
     ]
    }
   ],
   "source": [
    "commandDictionary[\"insert_wolf\"] = \"\".join(commandDictionary[\"insert_wolf\"])"
   ]
  },
  {
   "cell_type": "code",
   "execution_count": 228,
   "metadata": {},
   "outputs": [
    {
     "ename": "ValueError",
     "evalue": "operation parameter must be str",
     "output_type": "error",
     "traceback": [
      "\u001b[1;31m---------------------------------------------------------------------------\u001b[0m",
      "\u001b[1;31mValueError\u001b[0m                                Traceback (most recent call last)",
      "\u001b[1;32m~\\AppData\\Local\\Temp\\ipykernel_16544\\1709734194.py\u001b[0m in \u001b[0;36m<module>\u001b[1;34m\u001b[0m\n\u001b[0;32m      5\u001b[0m \u001b[0mcur\u001b[0m \u001b[1;33m=\u001b[0m \u001b[0mcon\u001b[0m\u001b[1;33m.\u001b[0m\u001b[0mcursor\u001b[0m\u001b[1;33m(\u001b[0m\u001b[1;33m)\u001b[0m\u001b[1;33m\u001b[0m\u001b[1;33m\u001b[0m\u001b[0m\n\u001b[0;32m      6\u001b[0m \u001b[1;33m\u001b[0m\u001b[0m\n\u001b[1;32m----> 7\u001b[1;33m \u001b[0mcur\u001b[0m\u001b[1;33m.\u001b[0m\u001b[0mexecute\u001b[0m\u001b[1;33m(\u001b[0m\u001b[0mcommandDictionary\u001b[0m\u001b[1;33m[\u001b[0m\u001b[1;34m\"insert_wolf\"\u001b[0m\u001b[1;33m]\u001b[0m\u001b[1;33m)\u001b[0m\u001b[1;33m\u001b[0m\u001b[1;33m\u001b[0m\u001b[0m\n\u001b[0m\u001b[0;32m      8\u001b[0m \u001b[1;33m\u001b[0m\u001b[0m\n\u001b[0;32m      9\u001b[0m \u001b[0mcon\u001b[0m\u001b[1;33m.\u001b[0m\u001b[0mcommit\u001b[0m\u001b[1;33m(\u001b[0m\u001b[1;33m)\u001b[0m\u001b[1;33m\u001b[0m\u001b[1;33m\u001b[0m\u001b[0m\n",
      "\u001b[1;31mValueError\u001b[0m: operation parameter must be str"
     ]
    }
   ],
   "source": [
    "data = GenerateData()\n",
    "run_id = \"1\"\n",
    "\n",
    "con = sqlite3.connect(\"natural_selection.db\")\n",
    "cur = con.cursor()\n",
    "\n",
    "cur.execute(commandDictionary[\"insert_wolf\"])\n",
    "\n",
    "con.commit()\n",
    "con.close()\n"
   ]
  },
  {
   "cell_type": "code",
   "execution_count": 235,
   "metadata": {},
   "outputs": [],
   "source": [
    "commandDictionary[\"insert_wolf\"] = str(commandDictionary[\"insert_wolf\"])\n",
    "commandDictionary[\"insert_wolf\"] = commandDictionary[\"insert_wolf\"].replace(\"\\n\", \"\").replace(\"//\", \"\")\n",
    "commandDictionary[\"insert_wolf\"] = commandDictionary[\"insert_wolf\"], {\"POPULATION\" : data[0], \"AVG_ATK\" : data[1], \"AVG_HP\" : data[2], \"AVG_SPD\" : data[3], \"RUN_ID_PLACEHOLDER\" : run_id}\n",
    "# commandDictionary[\"insert_wolf\"] = str(commandDictionary[\"insert_wolf\"])"
   ]
  },
  {
   "cell_type": "code",
   "execution_count": 236,
   "metadata": {},
   "outputs": [
    {
     "data": {
      "text/plain": [
       "('INSERT INTO wolf_results (RUN_ID, POPULATION, AVG_ATK, AVG_HP, AVG_SPD) VALUES (    (SELECT RUN_ID FROM results WHERE RUN_ID = \":RUN_ID_PLACEHOLDER\"),    \":POPULATION\",    \":AVG_ATK\",    \":AVG_HP\",    \":AVG_SPD\",)',\n",
       " {'POPULATION': 10,\n",
       "  'AVG_ATK': 4.127,\n",
       "  'AVG_HP': 4.322,\n",
       "  'AVG_SPD': 1.053,\n",
       "  'RUN_ID_PLACEHOLDER': '1'})"
      ]
     },
     "execution_count": 236,
     "metadata": {},
     "output_type": "execute_result"
    }
   ],
   "source": [
    "commandDictionary[\"insert_wolf\"]"
   ]
  },
  {
   "cell_type": "code",
   "execution_count": 168,
   "metadata": {},
   "outputs": [
    {
     "data": {
      "text/plain": [
       "('=:POPULATION',\n",
       " {'POPULATION': '6',\n",
       "  'AVG_ATK': '1.517',\n",
       "  'AVG_HP': '1.555',\n",
       "  'AVG_SPD': '0.529',\n",
       "  'RUN_ID_PLACEHOLDER': '1'})"
      ]
     },
     "execution_count": 168,
     "metadata": {},
     "output_type": "execute_result"
    }
   ],
   "source": [
    "data = GenerateData()\n",
    "run_id = \"1\"\n",
    "# commandDictionary[\"insert_wolf\"] = commandDictionary[\"insert_wolf\"][::-1]\n",
    "# commandDictionary[\"insert_wolf\"] = commandDictionary[\"insert_wolf\"].replace(\"POPULATION\"[::-1], data[0][::-1], 1).replace(\"AVG_ATK\"[::-1], data[1][::-1], 1).replace(\"AVG_HP\"[::-1], data[2][::-1], 1).replace(\"AVG_SPD\"[::-1], data[3][::-1], 1).replace(\"RUN_ID_PLACEHOLDER\"[::-1], run_id[::-1], 1)\n",
    "# commandDictionary[\"insert_wolf\"] = commandDictionary[\"insert_wolf\"][::-1]\n",
    "# commandDictionary[\"insert_wolf\"] = StringToNumeric(commandDictionary[\"insert_wolf\"])\n",
    "\n",
    "# commandDictionary[\"insert_wolf\"] = commandDictionary[\"insert_wolf\"], {\"POPULATION\" : data[0], \"AVG_ATK\" : data[1], \"AVG_HP\" : data[2], \"AVG_SPD\" : data[3], \"RUN_ID_PLACEHOLDER\" : run_id}\n",
    "commandDictionary[\"insert_wolf\"]\n",
    "\n",
    "x = \"=:POPULATION\", {\"POPULATION\" : data[0], \"AVG_ATK\" : data[1], \"AVG_HP\" : data[2], \"AVG_SPD\" : data[3], \"RUN_ID_PLACEHOLDER\" : run_id}\n",
    "# commandDictionary[\"insert_wolf\"].replace(\"\\n\", \"\")"
   ]
  },
  {
   "cell_type": "code",
   "execution_count": 1,
   "metadata": {},
   "outputs": [
    {
     "ename": "NameError",
     "evalue": "name 'con' is not defined",
     "output_type": "error",
     "traceback": [
      "\u001b[1;31m---------------------------------------------------------------------------\u001b[0m",
      "\u001b[1;31mNameError\u001b[0m                                 Traceback (most recent call last)",
      "\u001b[1;32m~\\AppData\\Local\\Temp\\ipykernel_2040\\513641129.py\u001b[0m in \u001b[0;36m<module>\u001b[1;34m\u001b[0m\n\u001b[1;32m----> 1\u001b[1;33m \u001b[0mcon\u001b[0m\u001b[1;33m.\u001b[0m\u001b[0mclose\u001b[0m\u001b[1;33m(\u001b[0m\u001b[1;33m)\u001b[0m\u001b[1;33m\u001b[0m\u001b[1;33m\u001b[0m\u001b[0m\n\u001b[0m",
      "\u001b[1;31mNameError\u001b[0m: name 'con' is not defined"
     ]
    }
   ],
   "source": [
    "con.close()"
   ]
  },
  {
   "cell_type": "code",
   "execution_count": 3,
   "metadata": {},
   "outputs": [],
   "source": [
    "import sqlite3\n",
    "con = sqlite3.connect(\"natural_selection.db\")\n",
    "con.commit()\n",
    "con.close()"
   ]
  }
 ],
 "metadata": {
  "kernelspec": {
   "display_name": "Python 3.7.12 ('4opencv')",
   "language": "python",
   "name": "python3"
  },
  "language_info": {
   "codemirror_mode": {
    "name": "ipython",
    "version": 3
   },
   "file_extension": ".py",
   "mimetype": "text/x-python",
   "name": "python",
   "nbconvert_exporter": "python",
   "pygments_lexer": "ipython3",
   "version": "3.7.12"
  },
  "orig_nbformat": 4,
  "vscode": {
   "interpreter": {
    "hash": "02f7b4005e114b4721dda66080288c9f0ba478e7a6e6596001d23b25d0361f1b"
   }
  }
 },
 "nbformat": 4,
 "nbformat_minor": 2
}
