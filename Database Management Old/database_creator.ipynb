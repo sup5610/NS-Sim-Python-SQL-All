{
 "cells": [
  {
   "cell_type": "code",
   "execution_count": 1,
   "metadata": {},
   "outputs": [],
   "source": [
    "import sqlite3"
   ]
  },
  {
   "cell_type": "code",
   "execution_count": 3,
   "metadata": {},
   "outputs": [],
   "source": [
    "con = sqlite3.connect(\"natural_selection.db\")\n",
    "cur = con.cursor()\n",
    "\n",
    "fd = open(\"database_creator.sql\", \"r\") # opens sql file in read mode\n",
    "sqlFile = fd.read()\n",
    "fd.close()\n",
    "\n",
    "sqlCommands = sqlFile.split(\";\")\n",
    "\n",
    "\n",
    "for command in sqlCommands:\n",
    "    cur.execute(command)\n",
    "con.commit()\n",
    "con.close()"
   ]
  }
 ],
 "metadata": {
  "kernelspec": {
   "display_name": "Python 3.9.13 64-bit (microsoft store)",
   "language": "python",
   "name": "python3"
  },
  "language_info": {
   "codemirror_mode": {
    "name": "ipython",
    "version": 3
   },
   "file_extension": ".py",
   "mimetype": "text/x-python",
   "name": "python",
   "nbconvert_exporter": "python",
   "pygments_lexer": "ipython3",
   "version": "3.9.13"
  },
  "orig_nbformat": 4,
  "vscode": {
   "interpreter": {
    "hash": "a402964f23e042ea1433e5f9c0acd32bfaadbc7ae7feec8525e1f80256e0e173"
   }
  }
 },
 "nbformat": 4,
 "nbformat_minor": 2
}
